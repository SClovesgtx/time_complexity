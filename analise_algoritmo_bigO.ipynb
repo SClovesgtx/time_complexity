{
 "cells": [
  {
   "cell_type": "markdown",
   "id": "d0d37b32",
   "metadata": {},
   "source": [
    "# Como analisar?\n",
    "\n",
    "Podemos analisar tanto o tempo de execução como o consumo de memória:\n",
    "\n",
    "![](imgs/tempo_memoria.png)"
   ]
  },
  {
   "cell_type": "markdown",
   "id": "0b60e9bc",
   "metadata": {},
   "source": [
    "## Tempo\n",
    "\n",
    "O tempo de sexecução vai depender das seguintes características da máquina e fatores:\n",
    "\n",
    "![](imgs/tempo_execucao_depende.png)"
   ]
  },
  {
   "cell_type": "markdown",
   "id": "ac2ed8f8",
   "metadata": {},
   "source": [
    "Fora o input, todos os demais fatores dependem da máquina. Portanto, as análises de algoritmo são feitas pensando apenas no input:\n",
    "\n",
    "![](imgs/analise_baseada_input.png)"
   ]
  },
  {
   "cell_type": "markdown",
   "id": "14eeba52",
   "metadata": {},
   "source": [
    "A seguir, temos uma análise tanto do time como space complexity, cada *1* representa uma unidade de tempo, ou uma unidade de memória:\n",
    "\n",
    "![](imgs/analise_swap.png)"
   ]
  },
  {
   "cell_type": "markdown",
   "id": "ff269a0f",
   "metadata": {},
   "source": [
    "Como se pode notar, em ambos os casos o valor foi constante, ou seja, a complexidade neste algoritmo não depende do input. \n",
    "\n",
    "Para fins práticos, usamos a notação **Big O**, ou seja, não dizemos que o tempo de execução é três unidades de tempo, dizemos que o tempo é constante, cuja notação é $O(1)$."
   ]
  },
  {
   "cell_type": "markdown",
   "id": "8586c7be",
   "metadata": {},
   "source": [
    "## Analisando *for* loop"
   ]
  },
  {
   "cell_type": "markdown",
   "id": "e6abd4cc",
   "metadata": {},
   "source": [
    "![](imgs/for_looop.png)"
   ]
  },
  {
   "cell_type": "markdown",
   "id": "235bc836",
   "metadata": {},
   "source": [
    "Veja que os condicionais também são levados em conta (n + 1, n true e 1 false), mas no final, para a notação big O, se pega o elemento de maior grau do polinômio, que no nosso caso é n. "
   ]
  },
  {
   "cell_type": "markdown",
   "id": "0ff6a41b",
   "metadata": {},
   "source": [
    "Se tivermos 10 loops separados, teremos 10n interações, mas no big O ainda continuará $O(n)$."
   ]
  },
  {
   "cell_type": "markdown",
   "id": "299c892a",
   "metadata": {},
   "source": [
    "![](imgs/n_loops_separados.png)"
   ]
  },
  {
   "cell_type": "markdown",
   "id": "b956f257",
   "metadata": {},
   "source": [
    "Para loops aninhados e arrays 2d:"
   ]
  },
  {
   "cell_type": "markdown",
   "id": "6146bdc9",
   "metadata": {},
   "source": [
    "![](imgs/loops_aninhados.png)"
   ]
  },
  {
   "cell_type": "markdown",
   "id": "f814c632",
   "metadata": {},
   "source": [
    "![](imgs/array_2d_space_complexity.png)"
   ]
  },
  {
   "cell_type": "markdown",
   "id": "6c485c23",
   "metadata": {},
   "source": [
    "## Quando falar do melhor cenário?\n",
    "\n",
    "Quando a execução de um loop é determinado por um condicional, então precisamos falar tanto do melhor cenário como do pior cenário:"
   ]
  },
  {
   "cell_type": "markdown",
   "id": "fcbba9ee",
   "metadata": {},
   "source": [
    "![](imgs/pior_melhor_cenario.png)"
   ]
  },
  {
   "cell_type": "markdown",
   "id": "0d659033",
   "metadata": {},
   "source": [
    "## $\\log_{2}n$ e $\\sqrt{n}$"
   ]
  },
  {
   "cell_type": "markdown",
   "id": "a4dff4c6",
   "metadata": {},
   "source": [
    "Se elaborarmos a expressão $2^k = n$ para isolar $k$, facilmente chegamos a $k = log_{2}n$."
   ]
  },
  {
   "cell_type": "markdown",
   "id": "5c5b2ecd",
   "metadata": {},
   "source": [
    "![](imgs/log_n.png)"
   ]
  },
  {
   "cell_type": "markdown",
   "id": "105481e1",
   "metadata": {},
   "source": [
    "No cenário seguinte, também chegaremos a $k = log_{2}n$:"
   ]
  },
  {
   "cell_type": "markdown",
   "id": "046cf17b",
   "metadata": {},
   "source": [
    "![](imgs/log_n_divisao.png)"
   ]
  },
  {
   "cell_type": "markdown",
   "id": "511e88b3",
   "metadata": {},
   "source": [
    "Já $i \\cdot i = i² = n$, facilmente chegamos a $i = \\sqrt{n}$:"
   ]
  },
  {
   "cell_type": "markdown",
   "id": "fb9b1159",
   "metadata": {},
   "source": [
    "![](imgs/sqrt.png)"
   ]
  },
  {
   "cell_type": "markdown",
   "id": "305cc885",
   "metadata": {},
   "source": [
    "## Complexidade exponencial"
   ]
  },
  {
   "cell_type": "markdown",
   "id": "ed3f1e49",
   "metadata": {},
   "source": [
    "![](imgs/func_exp.png)"
   ]
  },
  {
   "cell_type": "markdown",
   "id": "45e46206",
   "metadata": {},
   "source": [
    "![](imgs/complexidade_exponencial.png)"
   ]
  },
  {
   "cell_type": "markdown",
   "id": "12b522e7",
   "metadata": {},
   "source": [
    "## Comparando as diferentes complexidades"
   ]
  },
  {
   "cell_type": "markdown",
   "id": "6be6b5cb",
   "metadata": {},
   "source": [
    "![](imgs/diffs_complexidades.png)"
   ]
  },
  {
   "cell_type": "code",
   "execution_count": null,
   "id": "3ed138ec",
   "metadata": {},
   "outputs": [],
   "source": []
  }
 ],
 "metadata": {
  "kernelspec": {
   "display_name": "Python 3 (ipykernel)",
   "language": "python",
   "name": "python3"
  },
  "language_info": {
   "codemirror_mode": {
    "name": "ipython",
    "version": 3
   },
   "file_extension": ".py",
   "mimetype": "text/x-python",
   "name": "python",
   "nbconvert_exporter": "python",
   "pygments_lexer": "ipython3",
   "version": "3.10.6"
  }
 },
 "nbformat": 4,
 "nbformat_minor": 5
}
