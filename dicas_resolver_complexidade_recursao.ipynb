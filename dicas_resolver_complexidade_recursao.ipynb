{
 "cells": [
  {
   "cell_type": "markdown",
   "id": "e633288b",
   "metadata": {},
   "source": [
    "# T(n) = T(n-k) + x - How to solve?"
   ]
  },
  {
   "cell_type": "markdown",
   "id": "14305f98",
   "metadata": {},
   "source": [
    "![](imgs/dicas_calculo_complexidade.png)"
   ]
  },
  {
   "cell_type": "markdown",
   "id": "5076584c",
   "metadata": {},
   "source": [
    "# T(n) = k T(n-1)+ x - How to Solve?"
   ]
  },
  {
   "cell_type": "markdown",
   "id": "a97bdf55",
   "metadata": {},
   "source": [
    "![](imgs/dica_2.png)"
   ]
  },
  {
   "cell_type": "markdown",
   "id": "655d9978",
   "metadata": {},
   "source": [
    "![](imgs/master_theorem.png)"
   ]
  }
 ],
 "metadata": {
  "kernelspec": {
   "display_name": "Python 3 (ipykernel)",
   "language": "python",
   "name": "python3"
  },
  "language_info": {
   "codemirror_mode": {
    "name": "ipython",
    "version": 3
   },
   "file_extension": ".py",
   "mimetype": "text/x-python",
   "name": "python",
   "nbconvert_exporter": "python",
   "pygments_lexer": "ipython3",
   "version": "3.10.6"
  }
 },
 "nbformat": 4,
 "nbformat_minor": 5
}
