{
 "cells": [
  {
   "cell_type": "markdown",
   "id": "40610899",
   "metadata": {},
   "source": [
    "Há algoritmos que podemos expressar sua complexidade recorrendo ao próprio algoritmo, são os algoritmo recursivos. Por exemplo, o algoritmo recursivo para obter o fatorial de um número, ou ainda, o algoritmo recursivo para obter um número de Fibonacci:"
   ]
  },
  {
   "cell_type": "markdown",
   "id": "1b51a935",
   "metadata": {},
   "source": [
    "![](imgs/fac_fib.png)"
   ]
  },
  {
   "cell_type": "markdown",
   "id": "772056c4",
   "metadata": {},
   "source": [
    "A seguir temos uma análise de *recurrence relation* de um algoritmo qualquer:"
   ]
  },
  {
   "cell_type": "markdown",
   "id": "8ea9607d",
   "metadata": {},
   "source": [
    "![](imgs/recurrence.png)"
   ]
  },
  {
   "cell_type": "markdown",
   "id": "eadfa062",
   "metadata": {},
   "source": [
    "# Quatro Abordagens para resolver e obter a relação de recorrência"
   ]
  },
  {
   "cell_type": "markdown",
   "id": "856f6ae9",
   "metadata": {},
   "source": [
    "![](imgs/aborgagem_1.png)"
   ]
  },
  {
   "cell_type": "markdown",
   "id": "8959b7e4",
   "metadata": {},
   "source": [
    "![](imgs/back_subs.png)"
   ]
  },
  {
   "cell_type": "markdown",
   "id": "bde62511",
   "metadata": {},
   "source": [
    "![](imgs/recursion_tree.png)"
   ]
  },
  {
   "cell_type": "markdown",
   "id": "2fb5f288",
   "metadata": {},
   "source": [
    "# 4 - [Master theorem](https://www.geeksforgeeks.org/advanced-master-theorem-for-divide-and-conquer-recurrences/)"
   ]
  }
 ],
 "metadata": {
  "kernelspec": {
   "display_name": "Python 3 (ipykernel)",
   "language": "python",
   "name": "python3"
  },
  "language_info": {
   "codemirror_mode": {
    "name": "ipython",
    "version": 3
   },
   "file_extension": ".py",
   "mimetype": "text/x-python",
   "name": "python",
   "nbconvert_exporter": "python",
   "pygments_lexer": "ipython3",
   "version": "3.10.6"
  }
 },
 "nbformat": 4,
 "nbformat_minor": 5
}
